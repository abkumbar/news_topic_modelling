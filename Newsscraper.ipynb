{
 "cells": [
  {
   "cell_type": "markdown",
   "metadata": {},
   "source": [
    "# Scraper to scrape articles from allsides politics section"
   ]
  },
  {
   "cell_type": "code",
   "execution_count": 17,
   "metadata": {
    "collapsed": true
   },
   "outputs": [],
   "source": [
    "import feedparser as fp\n",
    "from newspaper import Article"
   ]
  },
  {
   "cell_type": "code",
   "execution_count": 1,
   "metadata": {
    "collapsed": true
   },
   "outputs": [],
   "source": [
    "import urllib.request\n",
    "from bs4 import BeautifulSoup as bs\n",
    "from time import sleep\n",
    "from time import time\n",
    "from random import randint\n",
    "from IPython.core.display import clear_output\n",
    "from warnings import warn"
   ]
  },
  {
   "cell_type": "code",
   "execution_count": 2,
   "metadata": {
    "collapsed": true
   },
   "outputs": [],
   "source": [
    "#url to get articles from\n",
    "\n",
    "url = 'https://www.allsides.com/topics/politics'"
   ]
  },
  {
   "cell_type": "code",
   "execution_count": 94,
   "metadata": {},
   "outputs": [
    {
     "ename": "AttributeError",
     "evalue": "'HTTPResponse' object has no attribute 'get_code'",
     "output_type": "error",
     "traceback": [
      "\u001b[1;31m---------------------------------------------------------------------------\u001b[0m",
      "\u001b[1;31mAttributeError\u001b[0m                            Traceback (most recent call last)",
      "\u001b[1;32m<ipython-input-94-5ee00e1021bc>\u001b[0m in \u001b[0;36m<module>\u001b[1;34m\u001b[0m\n\u001b[0;32m      2\u001b[0m \u001b[1;32mwith\u001b[0m \u001b[0murllib\u001b[0m\u001b[1;33m.\u001b[0m\u001b[0mrequest\u001b[0m\u001b[1;33m.\u001b[0m\u001b[0murlopen\u001b[0m\u001b[1;33m(\u001b[0m\u001b[0murl\u001b[0m\u001b[1;33m)\u001b[0m \u001b[1;32mas\u001b[0m \u001b[0mrequest\u001b[0m\u001b[1;33m:\u001b[0m\u001b[1;33m\u001b[0m\u001b[1;33m\u001b[0m\u001b[0m\n\u001b[0;32m      3\u001b[0m     \u001b[0mpage\u001b[0m \u001b[1;33m=\u001b[0m \u001b[0mrequest\u001b[0m\u001b[1;33m.\u001b[0m\u001b[0mread\u001b[0m\u001b[1;33m(\u001b[0m\u001b[1;33m)\u001b[0m\u001b[1;33m\u001b[0m\u001b[1;33m\u001b[0m\u001b[0m\n\u001b[1;32m----> 4\u001b[1;33m     \u001b[0mprint\u001b[0m \u001b[1;33m(\u001b[0m\u001b[0mrequest\u001b[0m\u001b[1;33m.\u001b[0m\u001b[0mget_code\u001b[0m\u001b[1;33m(\u001b[0m\u001b[1;33m)\u001b[0m\u001b[1;33m)\u001b[0m\u001b[1;33m\u001b[0m\u001b[1;33m\u001b[0m\u001b[0m\n\u001b[0m",
      "\u001b[1;31mAttributeError\u001b[0m: 'HTTPResponse' object has no attribute 'get_code'"
     ]
    }
   ],
   "source": [
    "#open page\n",
    "with urllib.request.urlopen(url) as request:\n",
    "    page = request.read()\n",
    "    print (request.get_code())"
   ]
  },
  {
   "cell_type": "code",
   "execution_count": 4,
   "metadata": {
    "collapsed": true
   },
   "outputs": [],
   "source": [
    "# parse html using beautifulsoup and store in soup\n",
    "soup = bs(page,'html.parser')"
   ]
  },
  {
   "cell_type": "code",
   "execution_count": 10,
   "metadata": {
    "collapsed": true
   },
   "outputs": [],
   "source": [
    "block_title_box = soup.find_all('h2', attrs={'class':\"block__title block-title\"})"
   ]
  },
  {
   "cell_type": "code",
   "execution_count": 12,
   "metadata": {},
   "outputs": [
    {
     "data": {
      "text/plain": [
       "[<h2 class=\"block__title block-title\">Background</h2>,\n",
       " <h2 class=\"block__title block-title\">Think Tanks &amp; Policy Groups</h2>,\n",
       " <h2 class=\"block__title block-title\">Dialog: In-Person</h2>,\n",
       " <h2 class=\"block__title block-title\">Dialog: On-line</h2>,\n",
       " <h2 class=\"block__title block-title\">Community &amp; Staff Picks</h2>,\n",
       " <h2 class=\"block__title block-title\">News from the Left</h2>,\n",
       " <h2 class=\"block__title block-title\">News from the Center</h2>,\n",
       " <h2 class=\"block__title block-title\">News from the Right</h2>]"
      ]
     },
     "execution_count": 12,
     "metadata": {},
     "output_type": "execute_result"
    }
   ],
   "source": [
    "#block_name = block_title_box.text.strip()\n",
    "block_title_box"
   ]
  },
  {
   "cell_type": "code",
   "execution_count": 63,
   "metadata": {
    "collapsed": true
   },
   "outputs": [],
   "source": [
    "#find all news titles\n",
    "news = soup.find_all('div',attrs={'class':'span4'})"
   ]
  },
  {
   "cell_type": "code",
   "execution_count": 66,
   "metadata": {},
   "outputs": [
    {
     "data": {
      "text/plain": [
       "<div class=\"span4\">\n",
       "<div class=\"region region-triptych-right\">\n",
       "<div class=\"block block-views bias-trio bias-trio-right ajax-trio first last odd\" id=\"block-views-related-news-block-3\">\n",
       "<h2 class=\"block__title block-title\">News from the Right</h2>\n",
       "<div class=\"view view-related-news view-id-related_news view-display-id-block_3 view-dom-id-45179dab83bc8e6521333e1dc57b192a\">\n",
       "<div class=\"pager-content span12\" style=\"margin-top: -42px !important;\">\n",
       "<div class=\"item-list\"><ul class=\"pager\"><li class=\"pager-previous first\"> </li>\n",
       "<li class=\"pager-current\">1 of 283</li>\n",
       "<li class=\"pager-next last\"><a href=\"/topics/politics?page=1\" title=\"Go to next page\">next ›</a></li>\n",
       "</ul></div>\n",
       "</div>\n",
       "<div class=\"view-header\">\n",
       "<p></p>\n",
       "<p></p> </div>\n",
       "<div class=\"view-content\">\n",
       "<div class=\"allsides-daily-topic-container\">\n",
       "<div class=\"allsides-daily-row first odd\">\n",
       "<div class=\"top-content-wrapper\">\n",
       "<div class=\"news-image news-image-toggle\">\n",
       "<img height=\"62\" src=\"https://www.allsides.com/sites/default/files/styles/news-thumb/public/Screen%20Shot%202019-05-01%20at%2010.27.15%20AM.png?itok=0E-ywS93\" title=\"Donald Trump, Nancy Pelosi, Chuck Schumer\" typeof=\"foaf:Image\" width=\"93\"/>\n",
       "</div>\n",
       "<div class=\"news-title\">\n",
       "<a href=\"https://www.allsides.com/news/2019-05-01-0727/impeachment-battle-axes-infrastructure-can-dems-and-trump-really-stick-2t-deal\" target=\"_blank\">Impeachment, 'Battle Axes,' Infrastructure: Can Dems and Trump Really Stick to $2T Deal?</a>\n",
       "</div>\n",
       "<div class=\"news-body\">\n",
       "<p>Democratic leaders met with President Trump at the White House Tuesday to discuss rebuilding America's infrastructure, saying they share the same goal....\n",
       "   </p></div>\n",
       "</div>\n",
       "<div class=\"source-area\">\n",
       "<div class=\"trigger-area\"></div>\n",
       "<div class=\"news-source\"><div class=\"source-mask\"></div><a href=\"/news-source/cbn\">CBN</a></div>\n",
       "<div class=\"bias-container\">\n",
       "<div class=\"bias-image\">\n",
       "<img alt=\"Political News Media Bias Rating: Right\" height=\"12\" src=\"https://www.allsides.com/sites/default/files/bias-right.png\" title=\"Political News Media Bias Rating: Right\" typeof=\"foaf:Image\" width=\"72\"/>\n",
       "</div>\n",
       "<div class=\"rating-box\">\n",
       "<div class=\"rating-box-top rating-box-stripe\">\n",
       "<span>×</span>\n",
       "<p>What do you think the bias of <a href=\"/news-source/cbn\">CBN</a> is?</p>\n",
       "</div>\n",
       "<div class=\"rating-box-middle rating-box-stripe\">\n",
       "<form accept-charset=\"UTF-8\" action=\"/topics/politics\" class=\"fivestar-widget\" id=\"fivestar-custom-widget--17\" method=\"post\"><div><div class=\"clearfix fivestar-user-text fivestar-user-stars fivestar-form-item fivestar-default\"><div class=\"form-item form-type-fivestar form-item-vote\">\n",
       "<div class=\"fivestar-static-form-item\"><div class=\"form-item form-type-item\">\n",
       "<div class=\"fivestar-default\"><div class=\"fivestar-widget-static fivestar-widget-static-source_bias_fivestar fivestar-widget-static-5 clearfix\"><div class=\"star star-1 star-odd star-first\"><span class=\"off\">0</span></div><div class=\"star star-2 star-even\"><span class=\"off\"></span></div><div class=\"star star-3 star-odd\"><span class=\"off\"></span></div><div class=\"star star-4 star-even\"><span class=\"off\"></span></div><div class=\"star star-5 star-odd star-last\"><span class=\"off\"></span></div></div></div>\n",
       "<div class=\"description\"><div class=\"fivestar-summary fivestar-summary-user-count\"><span class=\"user-rating\">Your rating: <span>None</span></span> <span class=\"total-votes\">(<span>412</span> votes)</span></div></div>\n",
       "</div>\n",
       "</div>\n",
       "<div class=\"description\">This is the LLCRR Rating for the News Source Bias, also known as Fivestar (since it is based on the fivestar plugin).  At this point it is only for user's submissions.</div>\n",
       "</div>\n",
       "</div><input class=\"fivestar-submit form-submit\" id=\"edit-fivestar-submit--17\" name=\"op\" type=\"submit\" value=\"Rate\"/><input name=\"form_build_id\" type=\"hidden\" value=\"form-Pt4de54BCyTag5yScTtNmcJboqX4sAfBY1VX6G2CwWA\"/>\n",
       "<input name=\"form_id\" type=\"hidden\" value=\"fivestar_custom_widget\"/>\n",
       "<div class=\"edit-rate-us-wrapper\"><div class=\"form-item form-type-textfield form-item-rate-us\">\n",
       "<label for=\"edit-rate-us--17\">rate us </label>\n",
       "<input class=\"form-text\" id=\"edit-rate-us--17\" maxlength=\"128\" name=\"rate_us\" size=\"20\" type=\"text\" value=\"\"/>\n",
       "<div class=\"description\">To prevent automated spam submissions leave this field empty.</div>\n",
       "</div>\n",
       "</div></div></form>\n",
       "<p class=\"fivestar-confirmation\"></p>\n",
       "</div>\n",
       "<div class=\"rating-box-bottom rating-box-stripe\">\n",
       "<div class=\"learn\">\n",
       "<a class=\"\" href=\"/about-bias\">About Bias </a>|\n",
       "\t\t\t\t<a class=\"\" href=\"/news-source/cbn\"> Learn More</a>\n",
       "</div>\n",
       "</div>\n",
       "<div class=\"arrow-down\"></div>\n",
       "</div>\n",
       "</div>\n",
       "</div>\n",
       "<div class=\"type-of-content\">\n",
       "  \n",
       "    \n",
       "      News: Facts\n",
       "      </div>\n",
       "</div>\n",
       "<div class=\"allsides-daily-row even\">\n",
       "<div class=\"top-content-wrapper\">\n",
       "<div class=\"news-image news-image-toggle\">\n",
       "<img alt=\"withholding, Obama Administration\" height=\"62\" src=\"https://www.allsides.com/sites/default/files/styles/news-thumb/public/Screen%20Shot%202019-04-30%20at%2011.05.49%20AM.png?itok=q6Pir9z7\" title=\"Barack Obama\" typeof=\"foaf:Image\" width=\"93\"/>\n",
       "</div>\n",
       "<div class=\"news-title\">\n",
       "<a href=\"https://www.allsides.com/news/2019-04-30-0806/obama-admin-sets-another-record-withholding-information\" target=\"_blank\">Obama Admin Sets Another Record for Withholding Information</a>\n",
       "</div>\n",
       "<div class=\"news-body\">\n",
       "<p>“This is the most transparent administration in history.\" - President Obama, February 14, 2013</p>\n",
       "<p>So claimed the 44th president during a Google Plus “...\n",
       "   </p></div>\n",
       "</div>\n",
       "<div class=\"source-area\">\n",
       "<div class=\"trigger-area\"></div>\n",
       "<div class=\"news-source\"><div class=\"source-mask\"></div><a href=\"/news-source/townhall-bias\">Townhall</a></div>\n",
       "<div class=\"bias-container\">\n",
       "<div class=\"bias-image\">\n",
       "<img alt=\"Political News Media Bias Rating: Right\" height=\"12\" src=\"https://www.allsides.com/sites/default/files/bias-right.png\" title=\"Political News Media Bias Rating: Right\" typeof=\"foaf:Image\" width=\"72\"/>\n",
       "</div>\n",
       "<div class=\"rating-box\">\n",
       "<div class=\"rating-box-top rating-box-stripe\">\n",
       "<span>×</span>\n",
       "<p>What do you think the bias of <a href=\"/news-source/townhall-bias\">Townhall</a> is?</p>\n",
       "</div>\n",
       "<div class=\"rating-box-middle rating-box-stripe\">\n",
       "<form accept-charset=\"UTF-8\" action=\"/topics/politics\" class=\"fivestar-widget\" id=\"fivestar-custom-widget--18\" method=\"post\"><div><div class=\"clearfix fivestar-user-text fivestar-user-stars fivestar-form-item fivestar-default\"><div class=\"form-item form-type-fivestar form-item-vote\">\n",
       "<div class=\"fivestar-static-form-item\"><div class=\"form-item form-type-item\">\n",
       "<div class=\"fivestar-default\"><div class=\"fivestar-widget-static fivestar-widget-static-source_bias_fivestar fivestar-widget-static-5 clearfix\"><div class=\"star star-1 star-odd star-first\"><span class=\"off\">0</span></div><div class=\"star star-2 star-even\"><span class=\"off\"></span></div><div class=\"star star-3 star-odd\"><span class=\"off\"></span></div><div class=\"star star-4 star-even\"><span class=\"off\"></span></div><div class=\"star star-5 star-odd star-last\"><span class=\"off\"></span></div></div></div>\n",
       "<div class=\"description\"><div class=\"fivestar-summary fivestar-summary-user-count\"><span class=\"user-rating\">Your rating: <span>None</span></span> <span class=\"total-votes\">(<span>655</span> votes)</span></div></div>\n",
       "</div>\n",
       "</div>\n",
       "<div class=\"description\">This is the LLCRR Rating for the News Source Bias, also known as Fivestar (since it is based on the fivestar plugin).  At this point it is only for user's submissions.</div>\n",
       "</div>\n",
       "</div><input class=\"fivestar-submit form-submit\" id=\"edit-fivestar-submit--18\" name=\"op\" type=\"submit\" value=\"Rate\"/><input name=\"form_build_id\" type=\"hidden\" value=\"form-LckCLnA-LNDRaOUKiVZ9TCeUut2nFNHY-RlbW9LPnEc\"/>\n",
       "<input name=\"form_id\" type=\"hidden\" value=\"fivestar_custom_widget\"/>\n",
       "<div class=\"edit-rate-us-wrapper\"><div class=\"form-item form-type-textfield form-item-rate-us\">\n",
       "<label for=\"edit-rate-us--18\">rate us </label>\n",
       "<input class=\"form-text\" id=\"edit-rate-us--18\" maxlength=\"128\" name=\"rate_us\" size=\"20\" type=\"text\" value=\"\"/>\n",
       "<div class=\"description\">To prevent automated spam submissions leave this field empty.</div>\n",
       "</div>\n",
       "</div></div></form>\n",
       "<p class=\"fivestar-confirmation\"></p>\n",
       "</div>\n",
       "<div class=\"rating-box-bottom rating-box-stripe\">\n",
       "<div class=\"learn\">\n",
       "<a class=\"\" href=\"/about-bias\">About Bias </a>|\n",
       "\t\t\t\t<a class=\"\" href=\"/news-source/townhall-bias\"> Learn More</a>\n",
       "</div>\n",
       "</div>\n",
       "<div class=\"arrow-down\"></div>\n",
       "</div>\n",
       "</div>\n",
       "</div>\n",
       "<div class=\"type-of-content\">\n",
       "  \n",
       "    \n",
       "      News: Facts\n",
       "      </div>\n",
       "</div>\n",
       "<div class=\"allsides-daily-row odd\">\n",
       "<div class=\"top-content-wrapper\">\n",
       "<div class=\"news-image news-image-toggle\">\n",
       "<img alt=\"NRA\" height=\"62\" src=\"https://www.allsides.com/sites/default/files/styles/news-thumb/public/Screen%20Shot%202019-04-29%20at%2010.53.37%20AM.png?itok=FfQHMz_U\" title=\"Oliver North\" typeof=\"foaf:Image\" width=\"93\"/>\n",
       "</div>\n",
       "<div class=\"news-title\">\n",
       "<a href=\"https://www.allsides.com/news/2019-04-29-0754/crisis-nra-seeks-path-forward-after-oliver-norths-surprise-resignation-new-york\" target=\"_blank\">'Crisis': NRA seeks path forward after Oliver North's surprise resignation, New York probe</a>\n",
       "</div>\n",
       "<div class=\"news-body\">\n",
       "<p>The National Rifle Association, which began its annual meeting last week with optimism and enthusiasm, leaves Indianapolis amid unprecedented chaos, with...\n",
       "   </p></div>\n",
       "</div>\n",
       "<div class=\"source-area\">\n",
       "<div class=\"trigger-area\"></div>\n",
       "<div class=\"news-source\"><div class=\"source-mask\"></div><a href=\"/news-source/washington-times-bias\">Washington Times</a></div>\n",
       "<div class=\"bias-container\">\n",
       "<div class=\"bias-image\">\n",
       "<img alt=\"Political News Media Bias Rating: Lean Right\" height=\"12\" src=\"https://www.allsides.com/sites/default/files/bias-leaning-right.png\" title=\"Political News Media Bias Rating: Lean Right\" typeof=\"foaf:Image\" width=\"72\"/>\n",
       "</div>\n",
       "<div class=\"rating-box\">\n",
       "<div class=\"rating-box-top rating-box-stripe\">\n",
       "<span>×</span>\n",
       "<p>What do you think the bias of <a href=\"/news-source/washington-times-bias\">Washington Times</a> is?</p>\n",
       "</div>\n",
       "<div class=\"rating-box-middle rating-box-stripe\">\n",
       "<form accept-charset=\"UTF-8\" action=\"/topics/politics\" class=\"fivestar-widget\" id=\"fivestar-custom-widget--19\" method=\"post\"><div><div class=\"clearfix fivestar-user-text fivestar-user-stars fivestar-form-item fivestar-default\"><div class=\"form-item form-type-fivestar form-item-vote\">\n",
       "<div class=\"fivestar-static-form-item\"><div class=\"form-item form-type-item\">\n",
       "<div class=\"fivestar-default\"><div class=\"fivestar-widget-static fivestar-widget-static-source_bias_fivestar fivestar-widget-static-5 clearfix\"><div class=\"star star-1 star-odd star-first\"><span class=\"off\">0</span></div><div class=\"star star-2 star-even\"><span class=\"off\"></span></div><div class=\"star star-3 star-odd\"><span class=\"off\"></span></div><div class=\"star star-4 star-even\"><span class=\"off\"></span></div><div class=\"star star-5 star-odd star-last\"><span class=\"off\"></span></div></div></div>\n",
       "<div class=\"description\"><div class=\"fivestar-summary fivestar-summary-user-count\"><span class=\"user-rating\">Your rating: <span>None</span></span> <span class=\"total-votes\">(<span>1574</span> votes)</span></div></div>\n",
       "</div>\n",
       "</div>\n",
       "<div class=\"description\">This is the LLCRR Rating for the News Source Bias, also known as Fivestar (since it is based on the fivestar plugin).  At this point it is only for user's submissions.</div>\n",
       "</div>\n",
       "</div><input class=\"fivestar-submit form-submit\" id=\"edit-fivestar-submit--19\" name=\"op\" type=\"submit\" value=\"Rate\"/><input name=\"form_build_id\" type=\"hidden\" value=\"form-t02G2SZ98XadhgEmItcQch_hMQ86dkFzOBYmY5CIJiw\"/>\n",
       "<input name=\"form_id\" type=\"hidden\" value=\"fivestar_custom_widget\"/>\n",
       "<div class=\"edit-rate-us-wrapper\"><div class=\"form-item form-type-textfield form-item-rate-us\">\n",
       "<label for=\"edit-rate-us--19\">rate us </label>\n",
       "<input class=\"form-text\" id=\"edit-rate-us--19\" maxlength=\"128\" name=\"rate_us\" size=\"20\" type=\"text\" value=\"\"/>\n",
       "<div class=\"description\">To prevent automated spam submissions leave this field empty.</div>\n",
       "</div>\n",
       "</div></div></form>\n",
       "<p class=\"fivestar-confirmation\"></p>\n",
       "</div>\n",
       "<div class=\"rating-box-bottom rating-box-stripe\">\n",
       "<div class=\"learn\">\n",
       "<a class=\"\" href=\"/about-bias\">About Bias </a>|\n",
       "\t\t\t\t<a class=\"\" href=\"/news-source/washington-times-bias\"> Learn More</a>\n",
       "</div>\n",
       "</div>\n",
       "<div class=\"arrow-down\"></div>\n",
       "</div>\n",
       "</div>\n",
       "</div>\n",
       "<div class=\"type-of-content\">\n",
       "  \n",
       "    \n",
       "      News: Facts\n",
       "      </div>\n",
       "</div>\n",
       "<div class=\"allsides-daily-row even\">\n",
       "<div class=\"top-content-wrapper\">\n",
       "<div class=\"news-image news-image-toggle\">\n",
       "<img height=\"62\" src=\"https://www.allsides.com/sites/default/files/styles/news-thumb/public/Screen%20Shot%202019-04-28%20at%2012.31.15%20PM.png?itok=F78MSOml\" typeof=\"foaf:Image\" width=\"93\"/>\n",
       "</div>\n",
       "<div class=\"news-title\">\n",
       "<a href=\"https://www.allsides.com/news/2019-04-28-1031/stephen-moore-says-he-won%E2%80%99t-drop-out-fed-nomination\" target=\"_blank\">Stephen Moore says he won’t drop out of Fed nomination</a>\n",
       "</div>\n",
       "<div class=\"news-body\">\n",
       "<p>Stephen Moore accused Democrats of attacking his character in an effort to derail his likely nomination by President Trump to the Federal Reserve Board and...\n",
       "   </p></div>\n",
       "</div>\n",
       "<div class=\"source-area\">\n",
       "<div class=\"trigger-area\"></div>\n",
       "<div class=\"news-source\"><div class=\"source-mask\"></div><a href=\"/news-source/new-york-post\">New York Post</a></div>\n",
       "<div class=\"bias-container\">\n",
       "<div class=\"bias-image\">\n",
       "<img alt=\"Political News Media Bias Rating: Right\" height=\"12\" src=\"https://www.allsides.com/sites/default/files/bias-right.png\" title=\"Political News Media Bias Rating: Right\" typeof=\"foaf:Image\" width=\"72\"/>\n",
       "</div>\n",
       "<div class=\"rating-box\">\n",
       "<div class=\"rating-box-top rating-box-stripe\">\n",
       "<span>×</span>\n",
       "<p>What do you think the bias of <a href=\"/news-source/new-york-post\">New York Post</a> is?</p>\n",
       "</div>\n",
       "<div class=\"rating-box-middle rating-box-stripe\">\n",
       "<form accept-charset=\"UTF-8\" action=\"/topics/politics\" class=\"fivestar-widget\" id=\"fivestar-custom-widget--20\" method=\"post\"><div><div class=\"clearfix fivestar-user-text fivestar-user-stars fivestar-form-item fivestar-default\"><div class=\"form-item form-type-fivestar form-item-vote\">\n",
       "<div class=\"fivestar-static-form-item\"><div class=\"form-item form-type-item\">\n",
       "<div class=\"fivestar-default\"><div class=\"fivestar-widget-static fivestar-widget-static-source_bias_fivestar fivestar-widget-static-5 clearfix\"><div class=\"star star-1 star-odd star-first\"><span class=\"off\">0</span></div><div class=\"star star-2 star-even\"><span class=\"off\"></span></div><div class=\"star star-3 star-odd\"><span class=\"off\"></span></div><div class=\"star star-4 star-even\"><span class=\"off\"></span></div><div class=\"star star-5 star-odd star-last\"><span class=\"off\"></span></div></div></div>\n",
       "<div class=\"description\"><div class=\"fivestar-summary fivestar-summary-user-count\"><span class=\"user-rating\">Your rating: <span>None</span></span> <span class=\"total-votes\">(<span>1233</span> votes)</span></div></div>\n",
       "</div>\n",
       "</div>\n",
       "<div class=\"description\">This is the LLCRR Rating for the News Source Bias, also known as Fivestar (since it is based on the fivestar plugin).  At this point it is only for user's submissions.</div>\n",
       "</div>\n",
       "</div><input class=\"fivestar-submit form-submit\" id=\"edit-fivestar-submit--20\" name=\"op\" type=\"submit\" value=\"Rate\"/><input name=\"form_build_id\" type=\"hidden\" value=\"form-t_UhaR-CivTgP9RtlWE5Wg4bR1WwerPi8DMikJ9jWbc\"/>\n",
       "<input name=\"form_id\" type=\"hidden\" value=\"fivestar_custom_widget\"/>\n",
       "<div class=\"edit-rate-us-wrapper\"><div class=\"form-item form-type-textfield form-item-rate-us\">\n",
       "<label for=\"edit-rate-us--20\">rate us </label>\n",
       "<input class=\"form-text\" id=\"edit-rate-us--20\" maxlength=\"128\" name=\"rate_us\" size=\"20\" type=\"text\" value=\"\"/>\n",
       "<div class=\"description\">To prevent automated spam submissions leave this field empty.</div>\n",
       "</div>\n",
       "</div></div></form>\n",
       "<p class=\"fivestar-confirmation\"></p>\n",
       "</div>\n",
       "<div class=\"rating-box-bottom rating-box-stripe\">\n",
       "<div class=\"learn\">\n",
       "<a class=\"\" href=\"/about-bias\">About Bias </a>|\n",
       "\t\t\t\t<a class=\"\" href=\"/news-source/new-york-post\"> Learn More</a>\n",
       "</div>\n",
       "</div>\n",
       "<div class=\"arrow-down\"></div>\n",
       "</div>\n",
       "</div>\n",
       "</div>\n",
       "<div class=\"type-of-content\">\n",
       "  \n",
       "    \n",
       "      News: Facts\n",
       "      </div>\n",
       "</div>\n",
       "<div class=\"allsides-daily-row last odd\">\n",
       "<div class=\"top-content-wrapper\">\n",
       "<div class=\"news-image news-image-toggle\">\n",
       "<img height=\"62\" src=\"https://www.allsides.com/sites/default/files/styles/news-thumb/public/Screen%20Shot%202019-04-28%20at%2012.28.24%20PM.png?itok=FhSzJK0Z\" typeof=\"foaf:Image\" width=\"93\"/>\n",
       "</div>\n",
       "<div class=\"news-title\">\n",
       "<a href=\"https://www.allsides.com/news/2019-04-28-1028/rep-ilhan-omar-responds-poway-synagogue-shooting-no-more-thoughts-and-prayers\" target=\"_blank\">Rep. Ilhan Omar responds to Poway synagogue shooting: 'No more thoughts and prayers'</a>\n",
       "</div>\n",
       "<div class=\"news-body\">\n",
       "<p>Controversial Rep. Ilhan Omar (D-Minn.), who has been accused of anti-Semitism, responded to the tragic shooting at Chabad of Poway synagogue in California...\n",
       "   </p></div>\n",
       "</div>\n",
       "<div class=\"source-area\">\n",
       "<div class=\"trigger-area\"></div>\n",
       "<div class=\"news-source\"><div class=\"source-mask\"></div><a href=\"/news-source/theblaze-bias\">TheBlaze.com</a></div>\n",
       "<div class=\"bias-container\">\n",
       "<div class=\"bias-image\">\n",
       "<img alt=\"Political News Media Bias Rating: Right\" height=\"12\" src=\"https://www.allsides.com/sites/default/files/bias-right.png\" title=\"Political News Media Bias Rating: Right\" typeof=\"foaf:Image\" width=\"72\"/>\n",
       "</div>\n",
       "<div class=\"rating-box\">\n",
       "<div class=\"rating-box-top rating-box-stripe\">\n",
       "<span>×</span>\n",
       "<p>What do you think the bias of <a href=\"/news-source/theblaze-bias\">TheBlaze.com</a> is?</p>\n",
       "</div>\n",
       "<div class=\"rating-box-middle rating-box-stripe\">\n",
       "<form accept-charset=\"UTF-8\" action=\"/topics/politics\" class=\"fivestar-widget\" id=\"fivestar-custom-widget--21\" method=\"post\"><div><div class=\"clearfix fivestar-user-text fivestar-user-stars fivestar-form-item fivestar-default\"><div class=\"form-item form-type-fivestar form-item-vote\">\n",
       "<div class=\"fivestar-static-form-item\"><div class=\"form-item form-type-item\">\n",
       "<div class=\"fivestar-default\"><div class=\"fivestar-widget-static fivestar-widget-static-source_bias_fivestar fivestar-widget-static-5 clearfix\"><div class=\"star star-1 star-odd star-first\"><span class=\"off\">0</span></div><div class=\"star star-2 star-even\"><span class=\"off\"></span></div><div class=\"star star-3 star-odd\"><span class=\"off\"></span></div><div class=\"star star-4 star-even\"><span class=\"off\"></span></div><div class=\"star star-5 star-odd star-last\"><span class=\"off\"></span></div></div></div>\n",
       "<div class=\"description\"><div class=\"fivestar-summary fivestar-summary-user-count\"><span class=\"user-rating\">Your rating: <span>None</span></span> <span class=\"total-votes\">(<span>446</span> votes)</span></div></div>\n",
       "</div>\n",
       "</div>\n",
       "<div class=\"description\">This is the LLCRR Rating for the News Source Bias, also known as Fivestar (since it is based on the fivestar plugin).  At this point it is only for user's submissions.</div>\n",
       "</div>\n",
       "</div><input class=\"fivestar-submit form-submit\" id=\"edit-fivestar-submit--21\" name=\"op\" type=\"submit\" value=\"Rate\"/><input name=\"form_build_id\" type=\"hidden\" value=\"form-C3IWdhGZJ5gH2L5nU_Y9lNVPJNT3iy1FsbPu7xE4RfM\"/>\n",
       "<input name=\"form_id\" type=\"hidden\" value=\"fivestar_custom_widget\"/>\n",
       "<div class=\"edit-rate-us-wrapper\"><div class=\"form-item form-type-textfield form-item-rate-us\">\n",
       "<label for=\"edit-rate-us--21\">rate us </label>\n",
       "<input class=\"form-text\" id=\"edit-rate-us--21\" maxlength=\"128\" name=\"rate_us\" size=\"20\" type=\"text\" value=\"\"/>\n",
       "<div class=\"description\">To prevent automated spam submissions leave this field empty.</div>\n",
       "</div>\n",
       "</div></div></form>\n",
       "<p class=\"fivestar-confirmation\"></p>\n",
       "</div>\n",
       "<div class=\"rating-box-bottom rating-box-stripe\">\n",
       "<div class=\"learn\">\n",
       "<a class=\"\" href=\"/about-bias\">About Bias </a>|\n",
       "\t\t\t\t<a class=\"\" href=\"/news-source/theblaze-bias\"> Learn More</a>\n",
       "</div>\n",
       "</div>\n",
       "<div class=\"arrow-down\"></div>\n",
       "</div>\n",
       "</div>\n",
       "</div>\n",
       "<div class=\"type-of-content\">\n",
       "  \n",
       "    \n",
       "      News: Facts\n",
       "      </div>\n",
       "</div>\n",
       "</div>\n",
       "</div>\n",
       "<div class=\"bias-trio-footer-area\">\n",
       "<div class=\"view-footer bias-trio-footer-combined bias-trio-submit-pager row-fluid\">\n",
       "<div class=\"footer-content span7\">\n",
       "<div class=\"allsides-daily-topic-container bias-trio-footer bias-trio-action-buttons\">\n",
       "<div class=\"allsides-daily-row\">\n",
       "<!-- <a class=\"btn btn-mini submit-tooltip\" href=\"mailto:feedback@allsides.com\"  rel=\"tooltip\" title=\"Send us an informative article or expert opinion on this issue.\" data-placement=\"top\">Submit your pick</a> -->\n",
       "<a class=\"btn btn-mini submit-tooltip\" data-placement=\"top\" href=\"/content/normal/think-tanks-center?ss=education\" rel=\"tooltip\" title=\"See More Results\">More Results</a>\n",
       "<a class=\"btn btn-mini btn-add-headline submit-tooltip\" data-placement=\"top\" data-target=\"#addHeadline\" data-toggle=\"modal\" href=\"#\" rel=\"tooltip\" title=\"Send us an informative article or expert opinion on this issue.\" type=\"button\">Add Headline +</a>\n",
       "</div>\n",
       "</div>\n",
       "</div>\n",
       "<!-- here -->\n",
       "</div>\n",
       "</div><!-- END .bias-trio-footer-area -->\n",
       "</div>\n",
       "</div><!-- /.block -->\n",
       "</div>\n",
       "</div>"
      ]
     },
     "execution_count": 66,
     "metadata": {},
     "output_type": "execute_result"
    }
   ],
   "source": [
    "news[2]"
   ]
  },
  {
   "cell_type": "code",
   "execution_count": 68,
   "metadata": {
    "collapsed": true
   },
   "outputs": [],
   "source": [
    "news_titles = news[0].find_all('div',attrs={'class':\"news-title\"})"
   ]
  },
  {
   "cell_type": "code",
   "execution_count": 69,
   "metadata": {},
   "outputs": [
    {
     "data": {
      "text/plain": [
       "[<div class=\"news-title\">\n",
       " <a href=\"https://www.allsides.com/news/2019-05-03-0838/michael-cohen-reporting-prison-monday\" target=\"_blank\">Michael Cohen reporting to prison Monday</a>\n",
       " </div>, <div class=\"news-title\">\n",
       " <a href=\"https://www.allsides.com/news/2019-04-29-0843/trump-stands-charlottesville-remarks-rise-white-nationalist-violence-becomes\" target=\"_blank\">As Trump stands by Charlottesville remarks, rise of white-nationalist violence becomes an issue in 2020 presidential race</a>\n",
       " </div>, <div class=\"news-title\">\n",
       " <a href=\"https://www.allsides.com/news/2019-04-28-0919/trump-calls-ex-fbi-officials-%E2%80%98scum%E2%80%99-takes-credit-%E2%80%98sick%E2%80%99-immigrant-plan-rally\" target=\"_blank\">Trump Calls Ex-FBI Officials ‘Scum,’ Takes Credit For ‘Sick’ Immigrant Plan At Rally</a>\n",
       " </div>, <div class=\"news-title\">\n",
       " <a href=\"https://www.allsides.com/news/2019-04-24-0915/democrats-ask-and-trump-says-no-signaling-bitter-fight-ahead\" target=\"_blank\">Democrats Ask and Trump Says No, Signaling a Bitter Fight Ahead</a>\n",
       " </div>, <div class=\"news-title\">\n",
       " <a href=\"https://www.allsides.com/news/2019-04-23-0813/constraints-presidency-being-redefined-trump-era-report-fallout-shows\" target=\"_blank\">Constraints on presidency being redefined in Trump era, report fallout shows</a>\n",
       " </div>]"
      ]
     },
     "execution_count": 69,
     "metadata": {},
     "output_type": "execute_result"
    }
   ],
   "source": [
    "news_titles"
   ]
  },
  {
   "cell_type": "code",
   "execution_count": 71,
   "metadata": {
    "collapsed": true
   },
   "outputs": [],
   "source": [
    "##news title\n",
    "link = news_titles[0].a['href']\n",
    "headline = news_titles[0].a.text"
   ]
  },
  {
   "cell_type": "code",
   "execution_count": 76,
   "metadata": {},
   "outputs": [
    {
     "data": {
      "text/plain": [
       "'\"The Situation\" and the Fyre Festival fraudster are already there. President Trump\\'s former lawyer and fixer, Michael Cohen, is up next.'"
      ]
     },
     "execution_count": 76,
     "metadata": {},
     "output_type": "execute_result"
    }
   ],
   "source": [
    "##news summary\n",
    "news_summary = news[0].find_all('div',attrs={'class':\"news-body\"})\n",
    "news_summary[0].p.text"
   ]
  },
  {
   "cell_type": "code",
   "execution_count": 77,
   "metadata": {},
   "outputs": [
    {
     "data": {
      "text/plain": [
       "'CBS News'"
      ]
     },
     "execution_count": 77,
     "metadata": {},
     "output_type": "execute_result"
    }
   ],
   "source": [
    "##news source\n",
    "source = news[0].find_all('div',attrs={'class':'news-source'})\n",
    "source[0].a.text"
   ]
  },
  {
   "cell_type": "code",
   "execution_count": 78,
   "metadata": {},
   "outputs": [
    {
     "data": {
      "text/plain": [
       "'Political News Media Bias Rating: Lean Left'"
      ]
     },
     "execution_count": 78,
     "metadata": {},
     "output_type": "execute_result"
    }
   ],
   "source": [
    "##news bias\n",
    "bias = news[0].find_all('div',attrs = {'class':'bias-image'})\n",
    "bias[0].img['title']"
   ]
  },
  {
   "cell_type": "code",
   "execution_count": 80,
   "metadata": {
    "collapsed": true
   },
   "outputs": [],
   "source": [
    "news_title = []\n",
    "news_summary = []\n",
    "news_source = []\n",
    "news_bias = []\n",
    "news_link = []\n",
    "\n",
    "for span in news:\n",
    "    for title in span.find_all('div',attrs={'class':\"news-title\"}):\n",
    "        news_title.append(title.a.text)\n",
    "        news_link.append(title.a['href'])\n",
    "    for summary in span.find_all('div',attrs={'class':\"news-body\"}):\n",
    "        news_summary.append(summary.p.text)\n",
    "    for source in span.find_all('div',attrs={'class':'news-source'}):\n",
    "        news_source.append(source.a.text)\n",
    "    for bias in span.find_all('div',attrs = {'class':'bias-image'}):\n",
    "        news_bias.append(bias.img['title'])"
   ]
  },
  {
   "cell_type": "code",
   "execution_count": 31,
   "metadata": {},
   "outputs": [
    {
     "name": "stdout",
     "output_type": "stream",
     "text": [
      "Request: 1; Frequency: 0.026298617707147205 requests/s\n",
      "Request: 2; Frequency: 0.02196663434670091 requests/s\n",
      "Request: 3; Frequency: 0.019463082241508216 requests/s\n",
      "Request: 4; Frequency: 0.020083524095127356 requests/s\n",
      "Request: 5; Frequency: 0.020551327818588403 requests/s\n",
      "Request: 6; Frequency: 0.0192167150028412 requests/s\n",
      "Request: 7; Frequency: 0.018469342268523963 requests/s\n",
      "Request: 8; Frequency: 0.01767324324698711 requests/s\n",
      "Request: 9; Frequency: 0.017671429268833062 requests/s\n",
      "Request: 10; Frequency: 0.01720321188298421 requests/s\n",
      "Request: 11; Frequency: 0.017302122267548813 requests/s\n",
      "Request: 12; Frequency: 0.017498769707801273 requests/s\n",
      "Request: 13; Frequency: 0.018013085106230134 requests/s\n",
      "Request: 14; Frequency: 0.017642917586261804 requests/s\n",
      "Request: 15; Frequency: 0.01753670660936085 requests/s\n",
      "Request: 16; Frequency: 0.01778384218622343 requests/s\n",
      "Request: 17; Frequency: 0.017553447056635488 requests/s\n",
      "Request: 18; Frequency: 0.01763517176190187 requests/s\n",
      "Request: 19; Frequency: 0.017793249580045297 requests/s\n",
      "Request: 20; Frequency: 0.01812382768056078 requests/s\n",
      "Request: 21; Frequency: 0.017977153185440017 requests/s\n",
      "Request: 22; Frequency: 0.018081066081272287 requests/s\n",
      "Request: 23; Frequency: 0.01830610389230763 requests/s\n",
      "Request: 24; Frequency: 0.018460276904347955 requests/s\n",
      "Request: 25; Frequency: 0.01847234521756379 requests/s\n",
      "Request: 26; Frequency: 0.01860723940378738 requests/s\n",
      "Request: 27; Frequency: 0.018461762551764842 requests/s\n",
      "Request: 28; Frequency: 0.018425555208367424 requests/s\n",
      "Request: 29; Frequency: 0.018234088704640238 requests/s\n",
      "Request: 30; Frequency: 0.018454812163625982 requests/s\n",
      "Request: 31; Frequency: 0.018517600261120284 requests/s\n",
      "Request: 32; Frequency: 0.018547355460393506 requests/s\n",
      "Request: 33; Frequency: 0.018572325294468006 requests/s\n",
      "Request: 34; Frequency: 0.018452677913935674 requests/s\n",
      "Request: 35; Frequency: 0.018290049296411735 requests/s\n",
      "Request: 36; Frequency: 0.018375022674959194 requests/s\n",
      "Request: 37; Frequency: 0.01847119836123591 requests/s\n",
      "Request: 38; Frequency: 0.01839572800300761 requests/s\n",
      "Request: 39; Frequency: 0.018452310079426524 requests/s\n",
      "Request: 40; Frequency: 0.018331284371306385 requests/s\n",
      "Request: 41; Frequency: 0.018205399607355288 requests/s\n",
      "Request: 42; Frequency: 0.0182406567077966 requests/s\n",
      "Request: 43; Frequency: 0.0183710476954213 requests/s\n",
      "Request: 44; Frequency: 0.01836171866327101 requests/s\n",
      "Request: 45; Frequency: 0.018422004094646578 requests/s\n",
      "Request: 46; Frequency: 0.018288208043711538 requests/s\n",
      "Request: 47; Frequency: 0.018370781065540954 requests/s\n",
      "Request: 48; Frequency: 0.018514909213116933 requests/s\n",
      "Request: 49; Frequency: 0.018497095223321918 requests/s\n",
      "Request: 50; Frequency: 0.018409266771121684 requests/s\n",
      "Request: 51; Frequency: 0.018339448511346633 requests/s\n",
      "Request: 52; Frequency: 0.018323620337872677 requests/s\n",
      "Request: 53; Frequency: 0.018271241130126518 requests/s\n",
      "Request: 54; Frequency: 0.018338916440385367 requests/s\n",
      "Request: 55; Frequency: 0.018316720916392727 requests/s\n",
      "Request: 56; Frequency: 0.01841803516672314 requests/s\n",
      "Request: 57; Frequency: 0.018315293378504384 requests/s\n",
      "Request: 58; Frequency: 0.01829969861543087 requests/s\n",
      "Request: 59; Frequency: 0.018312241667805065 requests/s\n",
      "Request: 60; Frequency: 0.018231380373902855 requests/s\n",
      "Request: 61; Frequency: 0.01816662968004386 requests/s\n",
      "Request: 62; Frequency: 0.01815951816288304 requests/s\n",
      "Request: 63; Frequency: 0.018121018928412617 requests/s\n",
      "Request: 64; Frequency: 0.01805138120871493 requests/s\n",
      "Request: 65; Frequency: 0.01799444495345916 requests/s\n",
      "Request: 66; Frequency: 0.017965075608664713 requests/s\n",
      "Request: 67; Frequency: 0.018027694453754923 requests/s\n",
      "Request: 68; Frequency: 0.017964967744771385 requests/s\n",
      "Request: 69; Frequency: 0.018067981566450918 requests/s\n",
      "Request: 70; Frequency: 0.018116533840421133 requests/s\n",
      "Request: 71; Frequency: 0.01809955208207118 requests/s\n",
      "Request: 72; Frequency: 0.018120737201575237 requests/s\n",
      "Request: 73; Frequency: 0.018082667993440788 requests/s\n",
      "Request: 74; Frequency: 0.01818307813211377 requests/s\n",
      "Request: 75; Frequency: 0.01811833195090257 requests/s\n",
      "Request: 76; Frequency: 0.018101820590754426 requests/s\n",
      "Request: 77; Frequency: 0.01816163796701766 requests/s\n",
      "Request: 78; Frequency: 0.01819789969343969 requests/s\n",
      "Request: 79; Frequency: 0.018162584171298683 requests/s\n",
      "Request: 80; Frequency: 0.018123310538389246 requests/s\n",
      "Request: 81; Frequency: 0.018104442219316792 requests/s\n",
      "Request: 82; Frequency: 0.018058509644824708 requests/s\n",
      "Request: 83; Frequency: 0.01816326453156963 requests/s\n",
      "Request: 84; Frequency: 0.018161555645886288 requests/s\n",
      "Request: 85; Frequency: 0.018220611575231804 requests/s\n",
      "Request: 86; Frequency: 0.018154111489597006 requests/s\n",
      "Request: 87; Frequency: 0.018118373468681143 requests/s\n",
      "Request: 88; Frequency: 0.018082293472103144 requests/s\n",
      "Request: 89; Frequency: 0.018031728765606953 requests/s\n",
      "Request: 90; Frequency: 0.01810545903772784 requests/s\n",
      "Request: 91; Frequency: 0.018136349003002306 requests/s\n",
      "Request: 92; Frequency: 0.01810625569704868 requests/s\n",
      "Request: 93; Frequency: 0.01809616714414614 requests/s\n",
      "Request: 94; Frequency: 0.018073239978169505 requests/s\n",
      "Request: 95; Frequency: 0.01809236422362507 requests/s\n",
      "Request: 96; Frequency: 0.018161323618927513 requests/s\n",
      "Request: 97; Frequency: 0.018190067834865403 requests/s\n",
      "Request: 98; Frequency: 0.018217263174100606 requests/s\n",
      "Request: 99; Frequency: 0.018218612716165674 requests/s\n",
      "Request: 100; Frequency: 0.018281559921252303 requests/s\n",
      "Request: 101; Frequency: 0.018276642962355934 requests/s\n",
      "Request: 102; Frequency: 0.01823252913693872 requests/s\n",
      "Request: 103; Frequency: 0.01821958647380527 requests/s\n",
      "Request: 104; Frequency: 0.01820422870910935 requests/s\n",
      "Request: 105; Frequency: 0.018242838053560775 requests/s\n",
      "Request: 106; Frequency: 0.01822291675259923 requests/s\n",
      "Request: 107; Frequency: 0.01821551316979722 requests/s\n",
      "Request: 108; Frequency: 0.018283391813905567 requests/s\n",
      "Request: 109; Frequency: 0.01826257931548897 requests/s\n",
      "Request: 110; Frequency: 0.018298114278360596 requests/s\n",
      "Request: 111; Frequency: 0.018263549241522056 requests/s\n",
      "Request: 112; Frequency: 0.01831292927287153 requests/s\n",
      "Request: 113; Frequency: 0.01834109745279759 requests/s\n",
      "Request: 114; Frequency: 0.01830189975492448 requests/s\n",
      "Request: 115; Frequency: 0.018364133280044413 requests/s\n",
      "Request: 116; Frequency: 0.018352626845149652 requests/s\n",
      "Request: 117; Frequency: 0.01841540522222244 requests/s\n",
      "Request: 118; Frequency: 0.018362437127042035 requests/s\n",
      "Request: 119; Frequency: 0.018399280830277434 requests/s\n",
      "Request: 120; Frequency: 0.018378961631316727 requests/s\n",
      "Request: 121; Frequency: 0.01844169723794626 requests/s\n"
     ]
    }
   ],
   "source": [
    "## Creating a loop to scrape from all pages\n",
    "\n",
    "news_title = []\n",
    "news_summary = []\n",
    "news_source = []\n",
    "news_bias = []\n",
    "news_link = []\n",
    "\n",
    "pages = [str(i) for i in range(250,371)]\n",
    "\n",
    "requests = 0\n",
    "\n",
    "start_time = time()\n",
    "\n",
    "for page in pages:\n",
    "    \n",
    "    url = 'https://www.allsides.com/topics/politics?page='+page\n",
    "    \n",
    "    #open page\n",
    "    try:\n",
    "        with urllib.request.urlopen(url) as request:\n",
    "            pg = request.read()\n",
    "    except urllib.error.HTTPError as e:\n",
    "        print('Error: {}'.format(e))\n",
    "    except urllib.error.URLError as e:\n",
    "        print('Error: {}'.format(e.reason))\n",
    "        \n",
    "    sleep(randint(20,60))\n",
    "    requests +=1\n",
    "    \n",
    "    # Calculate elapsed time between requests\n",
    "    elapsed_time = time() - start_time\n",
    "    print('Request: {}; Frequency: {} requests/s'.format(requests,requests/elapsed_time))\n",
    "    \n",
    "#     #warn if there's a error code\n",
    "#     if request.status_code !=200:\n",
    "#         warn('Request: {}; code: {}'.format(requests,request.status_code))\n",
    "    \n",
    "    #Break once the max pages is reached\n",
    "    if requests > 371:\n",
    "        warn('No. of requests was greater than expected')\n",
    "        break\n",
    "        \n",
    "    # parse html using beautifulsoup and store in soup\n",
    "    soup = bs(pg,'html.parser')\n",
    "    \n",
    "    #find all news containers\n",
    "    news = soup.find_all('div',attrs={'class':'span4'})\n",
    "    \n",
    "    # parse through news containers to get info\n",
    "    for span in news:\n",
    "        try:\n",
    "            for title in span.find_all('div',attrs={'class':\"news-title\"}):\n",
    "                titles = title.a.text if title else 'N/A'\n",
    "                link = title.a['href'] if title else 'N/A'\n",
    "                news_title.append(titles)\n",
    "                news_link.append(link)\n",
    "            for summary in span.find_all('div',attrs={'class':\"news-body\"}):\n",
    "                if summary.p != None:\n",
    "                    summ = summary.p.text \n",
    "                else:\n",
    "                    summ = 'N/A'\n",
    "                news_summary.append(summ)\n",
    "            for source in span.find_all('div',attrs={'class':'news-source'}):\n",
    "                if source.a != None:\n",
    "                    src = source.a.text\n",
    "                else:\n",
    "                    src = 'N/A'\n",
    "                news_source.append(src)\n",
    "            for bias in span.find_all('div',attrs = {'class':'bias-image'}):\n",
    "                if bias.img['title'] != None:\n",
    "                    bi = bias.img['title']\n",
    "                else:\n",
    "                    bi = 'N/A'\n",
    "                news_bias.append(bi)\n",
    "        except:\n",
    "            e = sys.exc_info()[0]\n",
    "            print(e)\n"
   ]
  },
  {
   "cell_type": "code",
   "execution_count": 32,
   "metadata": {
    "collapsed": true
   },
   "outputs": [],
   "source": [
    "news_title_278 = news_title\n",
    "news_summary_278 = news_summary\n",
    "news_source_278 = news_source \n",
    "news_bias_278 = news_bias \n",
    "news_link_278 = news_link"
   ]
  },
  {
   "cell_type": "code",
   "execution_count": 33,
   "metadata": {
    "collapsed": true
   },
   "outputs": [],
   "source": [
    "news_df_370 = pd.DataFrame({'news_title':news_title_278\n",
    "                           ,'news_summary':news_summary_278\n",
    "                           ,'news_source':news_source_278\n",
    "                           ,'news_bias':news_bias_278\n",
    "                           ,'news_lin':news_link_278})\n",
    "news_df_370.to_csv('News_370.csv',index=False)"
   ]
  },
  {
   "cell_type": "code",
   "execution_count": 15,
   "metadata": {
    "collapsed": true
   },
   "outputs": [],
   "source": [
    "import pandas as pd\n",
    "\n",
    "news_title_link = pd.DataFrame({'news_title':news_title\n",
    "                      ,'link':news_link})\n",
    "\n",
    "news_title_link.to_csv('Newstitle_link.csv',index=False)"
   ]
  },
  {
   "cell_type": "code",
   "execution_count": 18,
   "metadata": {
    "collapsed": true
   },
   "outputs": [],
   "source": [
    "news_source_bias = pd.DataFrame({'source':news_source\n",
    "                                ,'bias':news_bias})\n",
    "news_source_bias.to_csv('Newssource_bias.csv',index=False)"
   ]
  },
  {
   "cell_type": "code",
   "execution_count": 20,
   "metadata": {
    "collapsed": true
   },
   "outputs": [],
   "source": [
    "summary = pd.DataFrame({'summary':news_summary})\n",
    "summary.to_csv('Newssummary.csv',index=False)"
   ]
  }
 ],
 "metadata": {
  "kernelspec": {
   "display_name": "newsscraper",
   "language": "python",
   "name": "newsscraper"
  },
  "language_info": {
   "codemirror_mode": {
    "name": "ipython",
    "version": 3
   },
   "file_extension": ".py",
   "mimetype": "text/x-python",
   "name": "python",
   "nbconvert_exporter": "python",
   "pygments_lexer": "ipython3",
   "version": "3.7.1"
  }
 },
 "nbformat": 4,
 "nbformat_minor": 2
}
